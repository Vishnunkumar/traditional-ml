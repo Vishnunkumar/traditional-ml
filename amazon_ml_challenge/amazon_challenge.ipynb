{
 "cells": [
  {
   "cell_type": "code",
   "execution_count": 2,
   "metadata": {},
   "outputs": [],
   "source": [
    "import pandas as pd\n",
    "from sklearn import metrics\n",
    "from sklearn import ensemble\n",
    "from sklearn.preprocessing import StandardScaler, QuantileTransformer, RobustScaler\n",
    "from sklearn.pipeline import make_pipeline\n",
    "from sklearn.model_selection import cross_val_score, train_test_split\n",
    "import numpy as np\n",
    "import xgboost\n",
    "import seaborn as sns\n",
    "from mdesc.eval import ErrorViz, SensitivityViz\n",
    "import viztracer"
   ]
  },
  {
   "cell_type": "markdown",
   "metadata": {},
   "source": [
    "## EDA"
   ]
  },
  {
   "cell_type": "code",
   "execution_count": 3,
   "metadata": {},
   "outputs": [],
   "source": [
    "df_train = pd.read_csv('train.csv')\n",
    "df_test = pd.read_csv('test.csv')"
   ]
  },
  {
   "cell_type": "code",
   "execution_count": 4,
   "metadata": {},
   "outputs": [
    {
     "data": {
      "text/plain": [
       "(10738, 12)"
      ]
     },
     "execution_count": 4,
     "metadata": {},
     "output_type": "execute_result"
    }
   ],
   "source": [
    "df_train.shape"
   ]
  },
  {
   "cell_type": "code",
   "execution_count": 5,
   "metadata": {},
   "outputs": [
    {
     "data": {
      "text/plain": [
       "customer_id                          0\n",
       "customer_visit_score                 0\n",
       "customer_product_search_score       42\n",
       "customer_ctr_score                   0\n",
       "customer_stay_score                 37\n",
       "customer_frequency_score             0\n",
       "customer_product_variation_score    46\n",
       "customer_order_score                66\n",
       "customer_affinity_score              0\n",
       "customer_active_segment             23\n",
       "X1                                  37\n",
       "customer_category                    0\n",
       "dtype: int64"
      ]
     },
     "execution_count": 5,
     "metadata": {},
     "output_type": "execute_result"
    }
   ],
   "source": [
    "df_train.isnull().sum()"
   ]
  },
  {
   "cell_type": "code",
   "execution_count": 6,
   "metadata": {},
   "outputs": [
    {
     "data": {
      "text/plain": [
       "customer_id                          object\n",
       "customer_visit_score                float64\n",
       "customer_product_search_score       float64\n",
       "customer_ctr_score                  float64\n",
       "customer_stay_score                 float64\n",
       "customer_frequency_score            float64\n",
       "customer_product_variation_score    float64\n",
       "customer_order_score                float64\n",
       "customer_affinity_score             float64\n",
       "customer_active_segment              object\n",
       "X1                                   object\n",
       "customer_category                     int64\n",
       "dtype: object"
      ]
     },
     "execution_count": 6,
     "metadata": {},
     "output_type": "execute_result"
    }
   ],
   "source": [
    "df_train.dtypes"
   ]
  },
  {
   "cell_type": "code",
   "execution_count": 7,
   "metadata": {},
   "outputs": [],
   "source": [
    "target = df_train['customer_category']\n",
    "df_train.drop(['customer_category'], axis=1, inplace=True)"
   ]
  },
  {
   "cell_type": "code",
   "execution_count": 8,
   "metadata": {},
   "outputs": [],
   "source": [
    "def preprocess_data(df):\n",
    "    df.drop(['customer_id'], inplace=True, axis=1)\n",
    "    df = pd.get_dummies(df, columns=['customer_active_segment', 'X1'])\n",
    "    df.fillna(method='ffill', inplace=True)\n",
    "    \n",
    "    return df"
   ]
  },
  {
   "cell_type": "code",
   "execution_count": 9,
   "metadata": {},
   "outputs": [],
   "source": [
    "df_train = preprocess_data(df_train)\n",
    "df_test = preprocess_data(df_test)"
   ]
  },
  {
   "cell_type": "markdown",
   "metadata": {},
   "source": [
    "### Analysis \n",
    "To reduce class imbalance there are two ways:\n",
    "- 1. Upsampling/downsampling\n",
    "- 2. Different metrics"
   ]
  },
  {
   "cell_type": "markdown",
   "metadata": {},
   "source": [
    "We can use standard scaler as there is not much of variation in the data"
   ]
  },
  {
   "cell_type": "code",
   "execution_count": 13,
   "metadata": {},
   "outputs": [],
   "source": [
    "# target = df_train['ACTION']\n",
    "# df_train = df_train.iloc[:,3:]"
   ]
  },
  {
   "cell_type": "code",
   "execution_count": 14,
   "metadata": {},
   "outputs": [],
   "source": [
    "cols = df_train.columns"
   ]
  },
  {
   "cell_type": "code",
   "execution_count": 15,
   "metadata": {},
   "outputs": [],
   "source": [
    "ss = RobustScaler((10, 90))\n",
    "df_tr = ss.fit_transform(df_train) \n",
    "df_te = ss.transform(df_test[cols])"
   ]
  },
  {
   "cell_type": "code",
   "execution_count": 16,
   "metadata": {},
   "outputs": [],
   "source": [
    "df_te = pd.DataFrame(df_te, columns=cols)\n",
    "df = pd.DataFrame(df_tr, columns=cols)"
   ]
  },
  {
   "cell_type": "code",
   "execution_count": 17,
   "metadata": {},
   "outputs": [],
   "source": [
    "# df"
   ]
  },
  {
   "cell_type": "code",
   "execution_count": 18,
   "metadata": {},
   "outputs": [],
   "source": [
    "tr_x, va_x, tr_y, va_y = train_test_split(df, \n",
    "                                          target, \n",
    "                                          test_size=.3,\n",
    "                                          random_state=4311, \n",
    "                                          stratify=target)"
   ]
  },
  {
   "cell_type": "markdown",
   "metadata": {},
   "source": [
    "## Modeling"
   ]
  },
  {
   "cell_type": "markdown",
   "metadata": {},
   "source": [
    "### Xgboost"
   ]
  },
  {
   "cell_type": "code",
   "execution_count": 19,
   "metadata": {},
   "outputs": [],
   "source": [
    "param = {'max_depth': 10, 'eta': 1, 'objective': 'binary:logistic', \n",
    "         'subsample':0.6, 'sampling_method':'gradient_based'}\n",
    "param['eval_metric'] = ['auc']\n",
    "num_round = 10\n",
    "bst = xgboost.XGBRFClassifier(n_estimators=100,\n",
    "                              max_depth=40, \n",
    "                              eta=1, \n",
    "                              objective= 'binary:logistic', \n",
    "                              subsample=0.2, \n",
    "                              sampling_method='uniform')\n",
    "clf_model = bst.fit(tr_x, tr_y)"
   ]
  },
  {
   "cell_type": "code",
   "execution_count": 20,
   "metadata": {},
   "outputs": [],
   "source": [
    "params = {\n",
    "    'max_depth':6,\n",
    "    'min_child_weight': 1,\n",
    "    'eta':.3,\n",
    "    'subsample': 0.7,\n",
    "    'colsample_bytree': 1,\n",
    "    'objective':'binary:logistic',\n",
    "    'eval_metric':'auc'\n",
    "}"
   ]
  },
  {
   "cell_type": "code",
   "execution_count": 23,
   "metadata": {},
   "outputs": [],
   "source": [
    "# num_boost_round = 800\n",
    "# xgboost.train(tr_x, tr_y,\n",
    "#     params,\n",
    "#     dtrain,\n",
    "#     num_boost_round=num_boost_round,\n",
    "#     evals=[(dtest, \"Test\")],\n",
    "#     early_stopping_rounds=10)"
   ]
  },
  {
   "cell_type": "code",
   "execution_count": 24,
   "metadata": {},
   "outputs": [
    {
     "name": "stdout",
     "output_type": "stream",
     "text": [
      "0.951710582235444\n"
     ]
    }
   ],
   "source": [
    "va_preds = clf_model.predict(va_x)\n",
    "fpr, tpr, thresholds = metrics.roc_curve(va_preds, va_y)\n",
    "auc = metrics.auc(fpr,tpr)\n",
    "print(auc)"
   ]
  },
  {
   "cell_type": "code",
   "execution_count": 25,
   "metadata": {},
   "outputs": [],
   "source": [
    "we_prec_score = metrics.precision_score(va_preds, va_y, average='macro')"
   ]
  },
  {
   "cell_type": "code",
   "execution_count": 26,
   "metadata": {},
   "outputs": [
    {
     "data": {
      "text/plain": [
       "0.9243641547425359"
      ]
     },
     "execution_count": 26,
     "metadata": {},
     "output_type": "execute_result"
    }
   ],
   "source": [
    "we_prec_score"
   ]
  },
  {
   "cell_type": "code",
   "execution_count": 27,
   "metadata": {},
   "outputs": [],
   "source": [
    "predictions = clf_model.predict(df_te)\n",
    "predict_df = pd.DataFrame(predictions, columns=['customer_category'])"
   ]
  },
  {
   "cell_type": "code",
   "execution_count": 80,
   "metadata": {},
   "outputs": [],
   "source": [
    "submission = pd.read_csv('test.csv')\n",
    "submission = pd.concat([submission, predict_df], axis=1)\n",
    "submission = submission[['customer_id',  'customer_category']]\n",
    "submission.to_csv('submit.csv', index=None)"
   ]
  },
  {
   "cell_type": "markdown",
   "metadata": {},
   "source": [
    "### Random forest"
   ]
  },
  {
   "cell_type": "code",
   "execution_count": 28,
   "metadata": {},
   "outputs": [],
   "source": [
    "RFclassifier = ensemble.RandomForestClassifier(n_estimators=50, max_depth=6, max_features=15)\n",
    "rfmodel = RFclassifier.fit(tr_x, tr_y)"
   ]
  },
  {
   "cell_type": "code",
   "execution_count": 29,
   "metadata": {},
   "outputs": [],
   "source": [
    "va_preds_rf = rfmodel.predict(va_x)\n",
    "fpr, tpr, thresholds = metrics.roc_curve(va_preds_rf, va_y)\n",
    "auc = metrics.auc(fpr,tpr)"
   ]
  },
  {
   "cell_type": "code",
   "execution_count": 30,
   "metadata": {},
   "outputs": [
    {
     "name": "stdout",
     "output_type": "stream",
     "text": [
      "0.9236082817546054\n"
     ]
    }
   ],
   "source": [
    "we_score = metrics.precision_score(va_preds_rf, va_y, average='macro')\n",
    "print(we_score)"
   ]
  },
  {
   "cell_type": "code",
   "execution_count": 31,
   "metadata": {},
   "outputs": [
    {
     "data": {
      "text/plain": [
       "Index(['customer_visit_score', 'customer_product_search_score',\n",
       "       'customer_ctr_score', 'customer_stay_score', 'customer_frequency_score',\n",
       "       'customer_product_variation_score', 'customer_order_score',\n",
       "       'customer_affinity_score', 'customer_active_segment_A',\n",
       "       'customer_active_segment_AA', 'customer_active_segment_B',\n",
       "       'customer_active_segment_C', 'customer_active_segment_D', 'X1_A',\n",
       "       'X1_AA', 'X1_BA', 'X1_E', 'X1_F'],\n",
       "      dtype='object')"
      ]
     },
     "execution_count": 31,
     "metadata": {},
     "output_type": "execute_result"
    }
   ],
   "source": [
    "tr_x.columns"
   ]
  },
  {
   "cell_type": "markdown",
   "metadata": {},
   "source": [
    "## HPO"
   ]
  },
  {
   "cell_type": "code",
   "execution_count": 32,
   "metadata": {},
   "outputs": [],
   "source": [
    "params = {\n",
    "    'max_depth':6,\n",
    "    'min_child_weight': 1,\n",
    "    'eta':.3,\n",
    "    'subsample': 0.7,\n",
    "    'colsample_bytree': 1,\n",
    "    'objective':'binary:logistic',\n",
    "    'eval_metric':'auc'\n",
    "}"
   ]
  },
  {
   "cell_type": "code",
   "execution_count": 33,
   "metadata": {},
   "outputs": [],
   "source": [
    "dtrain = xgboost.DMatrix(tr_x, label=tr_y)\n",
    "dtest = xgboost.DMatrix(va_x, label=va_y)"
   ]
  },
  {
   "cell_type": "code",
   "execution_count": 34,
   "metadata": {},
   "outputs": [
    {
     "name": "stdout",
     "output_type": "stream",
     "text": [
      "[0]\tTest-auc:0.96096\n",
      "Will train until Test-auc hasn't improved in 30 rounds.\n",
      "[1]\tTest-auc:0.96104\n",
      "[2]\tTest-auc:0.96350\n",
      "[3]\tTest-auc:0.96534\n",
      "[4]\tTest-auc:0.96591\n",
      "[5]\tTest-auc:0.96739\n",
      "[6]\tTest-auc:0.96755\n",
      "[7]\tTest-auc:0.97074\n",
      "[8]\tTest-auc:0.97042\n",
      "[9]\tTest-auc:0.96996\n",
      "[10]\tTest-auc:0.96961\n",
      "[11]\tTest-auc:0.96850\n",
      "[12]\tTest-auc:0.96801\n",
      "[13]\tTest-auc:0.96723\n",
      "[14]\tTest-auc:0.96765\n",
      "[15]\tTest-auc:0.96693\n",
      "[16]\tTest-auc:0.96734\n",
      "[17]\tTest-auc:0.96748\n",
      "[18]\tTest-auc:0.96880\n",
      "[19]\tTest-auc:0.96890\n",
      "[20]\tTest-auc:0.96879\n",
      "[21]\tTest-auc:0.96935\n",
      "[22]\tTest-auc:0.96866\n",
      "[23]\tTest-auc:0.96922\n",
      "[24]\tTest-auc:0.96942\n",
      "[25]\tTest-auc:0.96963\n",
      "[26]\tTest-auc:0.97021\n",
      "[27]\tTest-auc:0.97086\n",
      "[28]\tTest-auc:0.97059\n",
      "[29]\tTest-auc:0.97047\n",
      "[30]\tTest-auc:0.97050\n",
      "[31]\tTest-auc:0.97089\n",
      "[32]\tTest-auc:0.97031\n",
      "[33]\tTest-auc:0.96950\n",
      "[34]\tTest-auc:0.96985\n",
      "[35]\tTest-auc:0.97053\n",
      "[36]\tTest-auc:0.97017\n",
      "[37]\tTest-auc:0.97027\n",
      "[38]\tTest-auc:0.97012\n",
      "[39]\tTest-auc:0.97001\n",
      "[40]\tTest-auc:0.96957\n",
      "[41]\tTest-auc:0.96939\n",
      "[42]\tTest-auc:0.96907\n",
      "[43]\tTest-auc:0.96922\n",
      "[44]\tTest-auc:0.96930\n",
      "[45]\tTest-auc:0.96907\n",
      "[46]\tTest-auc:0.96922\n",
      "[47]\tTest-auc:0.96949\n",
      "[48]\tTest-auc:0.96930\n",
      "[49]\tTest-auc:0.96950\n",
      "[50]\tTest-auc:0.96953\n",
      "[51]\tTest-auc:0.96920\n",
      "[52]\tTest-auc:0.96924\n",
      "[53]\tTest-auc:0.96962\n",
      "[54]\tTest-auc:0.96960\n",
      "[55]\tTest-auc:0.96948\n",
      "[56]\tTest-auc:0.96966\n",
      "[57]\tTest-auc:0.96992\n",
      "[58]\tTest-auc:0.96994\n",
      "[59]\tTest-auc:0.96997\n",
      "[60]\tTest-auc:0.97036\n",
      "[61]\tTest-auc:0.97055\n",
      "Stopping. Best iteration:\n",
      "[31]\tTest-auc:0.97089\n",
      "\n"
     ]
    }
   ],
   "source": [
    "num_boost_round = 800\n",
    "tr = xgboost.train(params,\n",
    "            dtrain,\n",
    "            num_boost_round=num_boost_round,\n",
    "            evals=[(dtest, \"Test\")],\n",
    "            early_stopping_rounds=30)"
   ]
  },
  {
   "cell_type": "code",
   "execution_count": 151,
   "metadata": {},
   "outputs": [],
   "source": [
    "df_tst = xgboost.DMatrix(df_te, label=None)\n",
    "values = tr.predict(df_tst)\n",
    "vals = []\n",
    "for x in values:\n",
    "    if x < 0.5:\n",
    "        vals.append(0)\n",
    "    else:\n",
    "        vals.append(1)"
   ]
  },
  {
   "cell_type": "code",
   "execution_count": 153,
   "metadata": {},
   "outputs": [],
   "source": [
    "predict_df = pd.DataFrame(vals, columns=['customer_category'])\n",
    "submission = pd.read_csv('test.csv')\n",
    "submission = pd.concat([submission, predict_df], axis=1)\n",
    "submission = submission[['customer_id',  'customer_category']]\n",
    "submission.to_csv('submit.csv', index=None)"
   ]
  },
  {
   "cell_type": "code",
   "execution_count": null,
   "metadata": {},
   "outputs": [],
   "source": []
  },
  {
   "cell_type": "code",
   "execution_count": null,
   "metadata": {},
   "outputs": [],
   "source": []
  },
  {
   "cell_type": "code",
   "execution_count": null,
   "metadata": {},
   "outputs": [],
   "source": []
  }
 ],
 "metadata": {
  "kernelspec": {
   "display_name": "conda_python3",
   "language": "python",
   "name": "conda_python3"
  },
  "language_info": {
   "codemirror_mode": {
    "name": "ipython",
    "version": 3
   },
   "file_extension": ".py",
   "mimetype": "text/x-python",
   "name": "python",
   "nbconvert_exporter": "python",
   "pygments_lexer": "ipython3",
   "version": "3.6.10"
  }
 },
 "nbformat": 4,
 "nbformat_minor": 4
}
