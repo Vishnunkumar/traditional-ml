{
 "cells": [
  {
   "cell_type": "code",
   "execution_count": 6,
   "metadata": {},
   "outputs": [],
   "source": [
    "from statsmodels.tsa.api import ExponentialSmoothing, SARIMAX, seasonal_decompose\n",
    "import statsmodels\n",
    "import pandas as pd\n",
    "import numpy as np\n",
    "import datetime\n",
    "from sklearn import metrics"
   ]
  },
  {
   "cell_type": "code",
   "execution_count": 57,
   "metadata": {},
   "outputs": [
    {
     "data": {
      "text/plain": [
       "(2167, 8)"
      ]
     },
     "execution_count": 57,
     "metadata": {},
     "output_type": "execute_result"
    }
   ],
   "source": [
    "df = pd.read_csv('web-traffic.csv')\n",
    "df.shape"
   ]
  },
  {
   "cell_type": "code",
   "execution_count": 58,
   "metadata": {},
   "outputs": [
    {
     "data": {
      "text/html": [
       "<div>\n",
       "<style scoped>\n",
       "    .dataframe tbody tr th:only-of-type {\n",
       "        vertical-align: middle;\n",
       "    }\n",
       "\n",
       "    .dataframe tbody tr th {\n",
       "        vertical-align: top;\n",
       "    }\n",
       "\n",
       "    .dataframe thead th {\n",
       "        text-align: right;\n",
       "    }\n",
       "</style>\n",
       "<table border=\"1\" class=\"dataframe\">\n",
       "  <thead>\n",
       "    <tr style=\"text-align: right;\">\n",
       "      <th></th>\n",
       "      <th>Row</th>\n",
       "      <th>Day</th>\n",
       "      <th>Day.Of.Week</th>\n",
       "      <th>Date</th>\n",
       "      <th>Page.Loads</th>\n",
       "      <th>Unique.Visits</th>\n",
       "      <th>First.Time.Visits</th>\n",
       "      <th>Returning.Visits</th>\n",
       "    </tr>\n",
       "  </thead>\n",
       "  <tbody>\n",
       "    <tr>\n",
       "      <th>0</th>\n",
       "      <td>1</td>\n",
       "      <td>Sunday</td>\n",
       "      <td>1</td>\n",
       "      <td>9/14/2014</td>\n",
       "      <td>2,146</td>\n",
       "      <td>1,582</td>\n",
       "      <td>1,430</td>\n",
       "      <td>152</td>\n",
       "    </tr>\n",
       "    <tr>\n",
       "      <th>1</th>\n",
       "      <td>2</td>\n",
       "      <td>Monday</td>\n",
       "      <td>2</td>\n",
       "      <td>9/15/2014</td>\n",
       "      <td>3,621</td>\n",
       "      <td>2,528</td>\n",
       "      <td>2,297</td>\n",
       "      <td>231</td>\n",
       "    </tr>\n",
       "    <tr>\n",
       "      <th>2</th>\n",
       "      <td>3</td>\n",
       "      <td>Tuesday</td>\n",
       "      <td>3</td>\n",
       "      <td>9/16/2014</td>\n",
       "      <td>3,698</td>\n",
       "      <td>2,630</td>\n",
       "      <td>2,352</td>\n",
       "      <td>278</td>\n",
       "    </tr>\n",
       "    <tr>\n",
       "      <th>3</th>\n",
       "      <td>4</td>\n",
       "      <td>Wednesday</td>\n",
       "      <td>4</td>\n",
       "      <td>9/17/2014</td>\n",
       "      <td>3,667</td>\n",
       "      <td>2,614</td>\n",
       "      <td>2,327</td>\n",
       "      <td>287</td>\n",
       "    </tr>\n",
       "    <tr>\n",
       "      <th>4</th>\n",
       "      <td>5</td>\n",
       "      <td>Thursday</td>\n",
       "      <td>5</td>\n",
       "      <td>9/18/2014</td>\n",
       "      <td>3,316</td>\n",
       "      <td>2,366</td>\n",
       "      <td>2,130</td>\n",
       "      <td>236</td>\n",
       "    </tr>\n",
       "  </tbody>\n",
       "</table>\n",
       "</div>"
      ],
      "text/plain": [
       "   Row        Day  Day.Of.Week       Date Page.Loads Unique.Visits  \\\n",
       "0    1     Sunday            1  9/14/2014      2,146         1,582   \n",
       "1    2     Monday            2  9/15/2014      3,621         2,528   \n",
       "2    3    Tuesday            3  9/16/2014      3,698         2,630   \n",
       "3    4  Wednesday            4  9/17/2014      3,667         2,614   \n",
       "4    5   Thursday            5  9/18/2014      3,316         2,366   \n",
       "\n",
       "  First.Time.Visits Returning.Visits  \n",
       "0             1,430              152  \n",
       "1             2,297              231  \n",
       "2             2,352              278  \n",
       "3             2,327              287  \n",
       "4             2,130              236  "
      ]
     },
     "execution_count": 58,
     "metadata": {},
     "output_type": "execute_result"
    }
   ],
   "source": [
    "df.head()"
   ]
  },
  {
   "cell_type": "markdown",
   "metadata": {},
   "source": [
    "## UNIVARIATE MODEL\n",
    "#### Preprocess"
   ]
  },
  {
   "cell_type": "code",
   "execution_count": 9,
   "metadata": {},
   "outputs": [
    {
     "name": "stderr",
     "output_type": "stream",
     "text": [
      "/home/ec2-user/anaconda3/envs/python3/lib/python3.6/site-packages/pandas/core/indexing.py:670: SettingWithCopyWarning: \n",
      "A value is trying to be set on a copy of a slice from a DataFrame\n",
      "\n",
      "See the caveats in the documentation: https://pandas.pydata.org/pandas-docs/stable/user_guide/indexing.html#returning-a-view-versus-a-copy\n",
      "  iloc._setitem_with_indexer(indexer, value)\n"
     ]
    }
   ],
   "source": [
    "for i in range(0, len(df)):\n",
    "    df['Page.Loads'].iloc[i] = int(df['Page.Loads'].iloc[i].replace(',',''))\n",
    "    df['Unique.Visits'].iloc[i] = int(df['Unique.Visits'].iloc[i].replace(',',''))\n",
    "    df['First.Time.Visits'].iloc[i] = int(df['First.Time.Visits'].iloc[i].replace(',',''))\n",
    "    df['Returning.Visits'].iloc[i] = int(df['Returning.Visits'].iloc[i].replace(',',''))"
   ]
  },
  {
   "cell_type": "code",
   "execution_count": 59,
   "metadata": {},
   "outputs": [],
   "source": [
    "def preprocess(df):\n",
    "    df['Date'] = pd.to_datetime(df['Date'])\n",
    "    df.fillna(method='ffill', inplace=True)\n",
    "    \n",
    "    for i in range(0, len(df)):\n",
    "        df['Page.Loads'].iloc[i] = int(df['Page.Loads'].iloc[i].replace(',',''))\n",
    "        df['Unique.Visits'].iloc[i] = int(df['Unique.Visits'].iloc[i].replace(',',''))\n",
    "        df['First.Time.Visits'].iloc[i] = int(df['First.Time.Visits'].iloc[i].replace(',',''))\n",
    "        df['Returning.Visits'].iloc[i] = int(df['Returning.Visits'].iloc[i].replace(',',''))\n",
    "\n",
    "    return df"
   ]
  },
  {
   "cell_type": "code",
   "execution_count": 60,
   "metadata": {},
   "outputs": [
    {
     "name": "stderr",
     "output_type": "stream",
     "text": [
      "/home/ec2-user/anaconda3/envs/python3/lib/python3.6/site-packages/pandas/core/indexing.py:670: SettingWithCopyWarning: \n",
      "A value is trying to be set on a copy of a slice from a DataFrame\n",
      "\n",
      "See the caveats in the documentation: https://pandas.pydata.org/pandas-docs/stable/user_guide/indexing.html#returning-a-view-versus-a-copy\n",
      "  iloc._setitem_with_indexer(indexer, value)\n"
     ]
    }
   ],
   "source": [
    "df = preprocess(df)\n",
    "start_training = datetime.datetime(2015, 1, 1)\n",
    "end_training = datetime.datetime(2019, 12, 30)\n",
    "\n",
    "ix1 = df[df['Date'] == start_training].index[0]\n",
    "ix2 = df[df['Date'] == end_training].index[0]\n",
    "\n",
    "df_un = df[['Date', 'Page.Loads']]\n",
    "df_train = df_un.iloc[ix1:ix2,:]\n",
    "df_test = df_un.iloc[ix2:,:]"
   ]
  },
  {
   "cell_type": "code",
   "execution_count": 61,
   "metadata": {},
   "outputs": [],
   "source": [
    "df_se = df.copy()\n",
    "df_se.index = df['Date']\n",
    "dec_result = seasonal_decompose(df_se['Page.Loads'])"
   ]
  },
  {
   "cell_type": "code",
   "execution_count": 62,
   "metadata": {},
   "outputs": [
    {
     "data": {
      "image/png": "[encoded data removed]",
      "text/plain": [
       "<Figure size 432x288 with 4 Axes>"
      ]
     },
     "execution_count": 62,
     "metadata": {},
     "output_type": "execute_result"
    },
    {
     "data": {
      "image/png": "[encoded data removed]",
      "text/plain": [
       "<Figure size 432x288 with 4 Axes>"
      ]
     },
     "metadata": {
      "needs_background": "light"
     },
     "output_type": "display_data"
    }
   ],
   "source": [
    "dec_result.plot()"
   ]
  },
  {
   "cell_type": "markdown",
   "metadata": {},
   "source": [
    "### Forecasting page loads as an univariate variable using\n",
    "- Exponential Smoothing\n",
    "- SARIMAX"
   ]
  },
  {
   "cell_type": "markdown",
   "metadata": {},
   "source": [
    "#### One time forecast"
   ]
  },
  {
   "cell_type": "code",
   "execution_count": 23,
   "metadata": {},
   "outputs": [
    {
     "name": "stderr",
     "output_type": "stream",
     "text": [
      "/home/ec2-user/anaconda3/envs/python3/lib/python3.6/site-packages/statsmodels/base/model.py:568: ConvergenceWarning: Maximum Likelihood optimization failed to converge. Check mle_retvals\n",
      "  \"Check mle_retvals\", ConvergenceWarning)\n"
     ]
    },
    {
     "name": "stdout",
     "output_type": "stream",
     "text": [
      "CPU times: user 15.9 s, sys: 234 ms, total: 16.1 s\n",
      "Wall time: 14.6 s\n"
     ]
    },
    {
     "name": "stderr",
     "output_type": "stream",
     "text": [
      "/home/ec2-user/anaconda3/envs/python3/lib/python3.6/site-packages/ipykernel/__main__.py:4: SettingWithCopyWarning: \n",
      "A value is trying to be set on a copy of a slice from a DataFrame.\n",
      "Try using .loc[row_indexer,col_indexer] = value instead\n",
      "\n",
      "See the caveats in the documentation: https://pandas.pydata.org/pandas-docs/stable/user_guide/indexing.html#returning-a-view-versus-a-copy\n"
     ]
    }
   ],
   "source": [
    "%%time\n",
    "model = SARIMAX(np.asarray(df_train['Page.Loads']),order=(1, 1, 1), seasonal_order=(1, 1, 1, 12))\n",
    "model_fit = model.fit()\n",
    "preds = model_fit.forecast(len(df_test))\n",
    "df_test['preds'] = preds"
   ]
  },
  {
   "cell_type": "code",
   "execution_count": 24,
   "metadata": {},
   "outputs": [
    {
     "name": "stdout",
     "output_type": "stream",
     "text": [
      "mae 1092.601465086528\n"
     ]
    }
   ],
   "source": [
    "mae = metrics.median_absolute_error(df_test['Page.Loads'], df_test['preds'])\n",
    "print(\"mae\", mae)"
   ]
  },
  {
   "cell_type": "code",
   "execution_count": 25,
   "metadata": {},
   "outputs": [
    {
     "data": {
      "text/plain": [
       "<matplotlib.axes._subplots.AxesSubplot at 0x7f1b9e7de438>"
      ]
     },
     "execution_count": 25,
     "metadata": {},
     "output_type": "execute_result"
    },
    {
     "data": {
      "image/png": "[encoded data removed]",
      "text/plain": [
       "<Figure size 432x288 with 1 Axes>"
      ]
     },
     "metadata": {
      "needs_background": "light"
     },
     "output_type": "display_data"
    }
   ],
   "source": [
    "df_test[['Page.Loads','preds']].plot()"
   ]
  },
  {
   "cell_type": "code",
   "execution_count": 26,
   "metadata": {},
   "outputs": [],
   "source": [
    "def rolling_forecast_sarimax(df, df_test, p):\n",
    "    df_test['preds'] = 0\n",
    "    for k in range(0, int(len(df_test)/p)):\n",
    "        model = SARIMAX(np.asarray(df_train['Page.Loads']),order=(1, 1, 1), seasonal_order=(1, 1, 1, 12))\n",
    "        model_fit = model.fit()\n",
    "        preds = model_fit.forecast(p)\n",
    "        print(str(k) + 'th week')\n",
    "\n",
    "        print(\"train-start-date:\", df['Date'].iloc[0])\n",
    "        print(\"train-end-date:\", df['Date'].iloc[ix2+(k)*p])\n",
    "\n",
    "        print('forecast-start-date:', df_test['Date'].iloc[(k)*p])\n",
    "        print('forecast-end-date:', df_test['Date'].iloc[(k+1)*p])\n",
    "\n",
    "        df_test['preds'].iloc[(k)*p:(k+1)*p] = preds\n",
    "    \n",
    "    return df_test"
   ]
  },
  {
   "cell_type": "code",
   "execution_count": 28,
   "metadata": {
    "scrolled": true
   },
   "outputs": [
    {
     "name": "stderr",
     "output_type": "stream",
     "text": [
      "/home/ec2-user/anaconda3/envs/python3/lib/python3.6/site-packages/ipykernel/__main__.py:2: SettingWithCopyWarning: \n",
      "A value is trying to be set on a copy of a slice from a DataFrame.\n",
      "Try using .loc[row_indexer,col_indexer] = value instead\n",
      "\n",
      "See the caveats in the documentation: https://pandas.pydata.org/pandas-docs/stable/user_guide/indexing.html#returning-a-view-versus-a-copy\n",
      "  from ipykernel import kernelapp as app\n",
      "/home/ec2-user/anaconda3/envs/python3/lib/python3.6/site-packages/statsmodels/base/model.py:568: ConvergenceWarning: Maximum Likelihood optimization failed to converge. Check mle_retvals\n",
      "  \"Check mle_retvals\", ConvergenceWarning)\n"
     ]
    },
    {
     "name": "stdout",
     "output_type": "stream",
     "text": [
      "0th week\n",
      "train-start-date: 2014-09-14 00:00:00\n",
      "train-end-date: 2019-12-30 00:00:00\n",
      "forecast-start-date: 2019-12-30 00:00:00\n",
      "forecast-end-date: 2020-01-06 00:00:00\n"
     ]
    },
    {
     "name": "stderr",
     "output_type": "stream",
     "text": [
      "/home/ec2-user/anaconda3/envs/python3/lib/python3.6/site-packages/pandas/core/indexing.py:670: SettingWithCopyWarning: \n",
      "A value is trying to be set on a copy of a slice from a DataFrame\n",
      "\n",
      "See the caveats in the documentation: https://pandas.pydata.org/pandas-docs/stable/user_guide/indexing.html#returning-a-view-versus-a-copy\n",
      "  iloc._setitem_with_indexer(indexer, value)\n",
      "/home/ec2-user/anaconda3/envs/python3/lib/python3.6/site-packages/ipykernel/__main__.py:15: SettingWithCopyWarning: \n",
      "A value is trying to be set on a copy of a slice from a DataFrame\n",
      "\n",
      "See the caveats in the documentation: https://pandas.pydata.org/pandas-docs/stable/user_guide/indexing.html#returning-a-view-versus-a-copy\n",
      "/home/ec2-user/anaconda3/envs/python3/lib/python3.6/site-packages/statsmodels/base/model.py:568: ConvergenceWarning: Maximum Likelihood optimization failed to converge. Check mle_retvals\n",
      "  \"Check mle_retvals\", ConvergenceWarning)\n"
     ]
    },
    {
     "name": "stdout",
     "output_type": "stream",
     "text": [
      "1th week\n",
      "train-start-date: 2014-09-14 00:00:00\n",
      "train-end-date: 2020-01-06 00:00:00\n",
      "forecast-start-date: 2020-01-06 00:00:00\n",
      "forecast-end-date: 2020-01-13 00:00:00\n"
     ]
    },
    {
     "name": "stderr",
     "output_type": "stream",
     "text": [
      "/home/ec2-user/anaconda3/envs/python3/lib/python3.6/site-packages/statsmodels/base/model.py:568: ConvergenceWarning: Maximum Likelihood optimization failed to converge. Check mle_retvals\n",
      "  \"Check mle_retvals\", ConvergenceWarning)\n"
     ]
    },
    {
     "name": "stdout",
     "output_type": "stream",
     "text": [
      "2th week\n",
      "train-start-date: 2014-09-14 00:00:00\n",
      "train-end-date: 2020-01-13 00:00:00\n",
      "forecast-start-date: 2020-01-13 00:00:00\n",
      "forecast-end-date: 2020-01-20 00:00:00\n"
     ]
    },
    {
     "name": "stderr",
     "output_type": "stream",
     "text": [
      "/home/ec2-user/anaconda3/envs/python3/lib/python3.6/site-packages/statsmodels/base/model.py:568: ConvergenceWarning: Maximum Likelihood optimization failed to converge. Check mle_retvals\n",
      "  \"Check mle_retvals\", ConvergenceWarning)\n"
     ]
    },
    {
     "name": "stdout",
     "output_type": "stream",
     "text": [
      "3th week\n",
      "train-start-date: 2014-09-14 00:00:00\n",
      "train-end-date: 2020-01-20 00:00:00\n",
      "forecast-start-date: 2020-01-20 00:00:00\n",
      "forecast-end-date: 2020-01-27 00:00:00\n"
     ]
    },
    {
     "name": "stderr",
     "output_type": "stream",
     "text": [
      "/home/ec2-user/anaconda3/envs/python3/lib/python3.6/site-packages/statsmodels/base/model.py:568: ConvergenceWarning: Maximum Likelihood optimization failed to converge. Check mle_retvals\n",
      "  \"Check mle_retvals\", ConvergenceWarning)\n"
     ]
    },
    {
     "name": "stdout",
     "output_type": "stream",
     "text": [
      "4th week\n",
      "train-start-date: 2014-09-14 00:00:00\n",
      "train-end-date: 2020-01-27 00:00:00\n",
      "forecast-start-date: 2020-01-27 00:00:00\n",
      "forecast-end-date: 2020-02-03 00:00:00\n"
     ]
    },
    {
     "name": "stderr",
     "output_type": "stream",
     "text": [
      "/home/ec2-user/anaconda3/envs/python3/lib/python3.6/site-packages/statsmodels/base/model.py:568: ConvergenceWarning: Maximum Likelihood optimization failed to converge. Check mle_retvals\n",
      "  \"Check mle_retvals\", ConvergenceWarning)\n"
     ]
    },
    {
     "name": "stdout",
     "output_type": "stream",
     "text": [
      "5th week\n",
      "train-start-date: 2014-09-14 00:00:00\n",
      "train-end-date: 2020-02-03 00:00:00\n",
      "forecast-start-date: 2020-02-03 00:00:00\n",
      "forecast-end-date: 2020-02-10 00:00:00\n"
     ]
    },
    {
     "name": "stderr",
     "output_type": "stream",
     "text": [
      "/home/ec2-user/anaconda3/envs/python3/lib/python3.6/site-packages/statsmodels/base/model.py:568: ConvergenceWarning: Maximum Likelihood optimization failed to converge. Check mle_retvals\n",
      "  \"Check mle_retvals\", ConvergenceWarning)\n"
     ]
    },
    {
     "name": "stdout",
     "output_type": "stream",
     "text": [
      "6th week\n",
      "train-start-date: 2014-09-14 00:00:00\n",
      "train-end-date: 2020-02-10 00:00:00\n",
      "forecast-start-date: 2020-02-10 00:00:00\n",
      "forecast-end-date: 2020-02-17 00:00:00\n"
     ]
    },
    {
     "name": "stderr",
     "output_type": "stream",
     "text": [
      "/home/ec2-user/anaconda3/envs/python3/lib/python3.6/site-packages/statsmodels/base/model.py:568: ConvergenceWarning: Maximum Likelihood optimization failed to converge. Check mle_retvals\n",
      "  \"Check mle_retvals\", ConvergenceWarning)\n"
     ]
    },
    {
     "name": "stdout",
     "output_type": "stream",
     "text": [
      "7th week\n",
      "train-start-date: 2014-09-14 00:00:00\n",
      "train-end-date: 2020-02-17 00:00:00\n",
      "forecast-start-date: 2020-02-17 00:00:00\n",
      "forecast-end-date: 2020-02-24 00:00:00\n"
     ]
    },
    {
     "name": "stderr",
     "output_type": "stream",
     "text": [
      "/home/ec2-user/anaconda3/envs/python3/lib/python3.6/site-packages/statsmodels/base/model.py:568: ConvergenceWarning: Maximum Likelihood optimization failed to converge. Check mle_retvals\n",
      "  \"Check mle_retvals\", ConvergenceWarning)\n"
     ]
    },
    {
     "name": "stdout",
     "output_type": "stream",
     "text": [
      "8th week\n",
      "train-start-date: 2014-09-14 00:00:00\n",
      "train-end-date: 2020-02-24 00:00:00\n",
      "forecast-start-date: 2020-02-24 00:00:00\n",
      "forecast-end-date: 2020-03-02 00:00:00\n"
     ]
    },
    {
     "name": "stderr",
     "output_type": "stream",
     "text": [
      "/home/ec2-user/anaconda3/envs/python3/lib/python3.6/site-packages/statsmodels/base/model.py:568: ConvergenceWarning: Maximum Likelihood optimization failed to converge. Check mle_retvals\n",
      "  \"Check mle_retvals\", ConvergenceWarning)\n"
     ]
    },
    {
     "name": "stdout",
     "output_type": "stream",
     "text": [
      "9th week\n",
      "train-start-date: 2014-09-14 00:00:00\n",
      "train-end-date: 2020-03-02 00:00:00\n",
      "forecast-start-date: 2020-03-02 00:00:00\n",
      "forecast-end-date: 2020-03-09 00:00:00\n"
     ]
    },
    {
     "name": "stderr",
     "output_type": "stream",
     "text": [
      "/home/ec2-user/anaconda3/envs/python3/lib/python3.6/site-packages/statsmodels/base/model.py:568: ConvergenceWarning: Maximum Likelihood optimization failed to converge. Check mle_retvals\n",
      "  \"Check mle_retvals\", ConvergenceWarning)\n"
     ]
    },
    {
     "name": "stdout",
     "output_type": "stream",
     "text": [
      "10th week\n",
      "train-start-date: 2014-09-14 00:00:00\n",
      "train-end-date: 2020-03-09 00:00:00\n",
      "forecast-start-date: 2020-03-09 00:00:00\n",
      "forecast-end-date: 2020-03-16 00:00:00\n"
     ]
    },
    {
     "name": "stderr",
     "output_type": "stream",
     "text": [
      "/home/ec2-user/anaconda3/envs/python3/lib/python3.6/site-packages/statsmodels/base/model.py:568: ConvergenceWarning: Maximum Likelihood optimization failed to converge. Check mle_retvals\n",
      "  \"Check mle_retvals\", ConvergenceWarning)\n"
     ]
    },
    {
     "name": "stdout",
     "output_type": "stream",
     "text": [
      "11th week\n",
      "train-start-date: 2014-09-14 00:00:00\n",
      "train-end-date: 2020-03-16 00:00:00\n",
      "forecast-start-date: 2020-03-16 00:00:00\n",
      "forecast-end-date: 2020-03-23 00:00:00\n"
     ]
    },
    {
     "name": "stderr",
     "output_type": "stream",
     "text": [
      "/home/ec2-user/anaconda3/envs/python3/lib/python3.6/site-packages/statsmodels/base/model.py:568: ConvergenceWarning: Maximum Likelihood optimization failed to converge. Check mle_retvals\n",
      "  \"Check mle_retvals\", ConvergenceWarning)\n"
     ]
    },
    {
     "name": "stdout",
     "output_type": "stream",
     "text": [
      "12th week\n",
      "train-start-date: 2014-09-14 00:00:00\n",
      "train-end-date: 2020-03-23 00:00:00\n",
      "forecast-start-date: 2020-03-23 00:00:00\n",
      "forecast-end-date: 2020-03-30 00:00:00\n"
     ]
    },
    {
     "name": "stderr",
     "output_type": "stream",
     "text": [
      "/home/ec2-user/anaconda3/envs/python3/lib/python3.6/site-packages/statsmodels/base/model.py:568: ConvergenceWarning: Maximum Likelihood optimization failed to converge. Check mle_retvals\n",
      "  \"Check mle_retvals\", ConvergenceWarning)\n"
     ]
    },
    {
     "name": "stdout",
     "output_type": "stream",
     "text": [
      "13th week\n",
      "train-start-date: 2014-09-14 00:00:00\n",
      "train-end-date: 2020-03-30 00:00:00\n",
      "forecast-start-date: 2020-03-30 00:00:00\n",
      "forecast-end-date: 2020-04-06 00:00:00\n"
     ]
    },
    {
     "name": "stderr",
     "output_type": "stream",
     "text": [
      "/home/ec2-user/anaconda3/envs/python3/lib/python3.6/site-packages/statsmodels/base/model.py:568: ConvergenceWarning: Maximum Likelihood optimization failed to converge. Check mle_retvals\n",
      "  \"Check mle_retvals\", ConvergenceWarning)\n"
     ]
    },
    {
     "name": "stdout",
     "output_type": "stream",
     "text": [
      "14th week\n",
      "train-start-date: 2014-09-14 00:00:00\n",
      "train-end-date: 2020-04-06 00:00:00\n",
      "forecast-start-date: 2020-04-06 00:00:00\n",
      "forecast-end-date: 2020-04-13 00:00:00\n"
     ]
    },
    {
     "name": "stderr",
     "output_type": "stream",
     "text": [
      "/home/ec2-user/anaconda3/envs/python3/lib/python3.6/site-packages/statsmodels/base/model.py:568: ConvergenceWarning: Maximum Likelihood optimization failed to converge. Check mle_retvals\n",
      "  \"Check mle_retvals\", ConvergenceWarning)\n"
     ]
    },
    {
     "name": "stdout",
     "output_type": "stream",
     "text": [
      "15th week\n",
      "train-start-date: 2014-09-14 00:00:00\n",
      "train-end-date: 2020-04-13 00:00:00\n",
      "forecast-start-date: 2020-04-13 00:00:00\n",
      "forecast-end-date: 2020-04-20 00:00:00\n"
     ]
    },
    {
     "name": "stderr",
     "output_type": "stream",
     "text": [
      "/home/ec2-user/anaconda3/envs/python3/lib/python3.6/site-packages/statsmodels/base/model.py:568: ConvergenceWarning: Maximum Likelihood optimization failed to converge. Check mle_retvals\n",
      "  \"Check mle_retvals\", ConvergenceWarning)\n"
     ]
    },
    {
     "name": "stdout",
     "output_type": "stream",
     "text": [
      "16th week\n",
      "train-start-date: 2014-09-14 00:00:00\n",
      "train-end-date: 2020-04-20 00:00:00\n",
      "forecast-start-date: 2020-04-20 00:00:00\n",
      "forecast-end-date: 2020-04-27 00:00:00\n"
     ]
    },
    {
     "name": "stderr",
     "output_type": "stream",
     "text": [
      "/home/ec2-user/anaconda3/envs/python3/lib/python3.6/site-packages/statsmodels/base/model.py:568: ConvergenceWarning: Maximum Likelihood optimization failed to converge. Check mle_retvals\n",
      "  \"Check mle_retvals\", ConvergenceWarning)\n"
     ]
    },
    {
     "name": "stdout",
     "output_type": "stream",
     "text": [
      "17th week\n",
      "train-start-date: 2014-09-14 00:00:00\n",
      "train-end-date: 2020-04-27 00:00:00\n",
      "forecast-start-date: 2020-04-27 00:00:00\n",
      "forecast-end-date: 2020-05-04 00:00:00\n"
     ]
    },
    {
     "name": "stderr",
     "output_type": "stream",
     "text": [
      "/home/ec2-user/anaconda3/envs/python3/lib/python3.6/site-packages/statsmodels/base/model.py:568: ConvergenceWarning: Maximum Likelihood optimization failed to converge. Check mle_retvals\n",
      "  \"Check mle_retvals\", ConvergenceWarning)\n"
     ]
    },
    {
     "name": "stdout",
     "output_type": "stream",
     "text": [
      "18th week\n",
      "train-start-date: 2014-09-14 00:00:00\n",
      "train-end-date: 2020-05-04 00:00:00\n",
      "forecast-start-date: 2020-05-04 00:00:00\n",
      "forecast-end-date: 2020-05-11 00:00:00\n"
     ]
    },
    {
     "name": "stderr",
     "output_type": "stream",
     "text": [
      "/home/ec2-user/anaconda3/envs/python3/lib/python3.6/site-packages/statsmodels/base/model.py:568: ConvergenceWarning: Maximum Likelihood optimization failed to converge. Check mle_retvals\n",
      "  \"Check mle_retvals\", ConvergenceWarning)\n"
     ]
    },
    {
     "name": "stdout",
     "output_type": "stream",
     "text": [
      "19th week\n",
      "train-start-date: 2014-09-14 00:00:00\n",
      "train-end-date: 2020-05-11 00:00:00\n",
      "forecast-start-date: 2020-05-11 00:00:00\n",
      "forecast-end-date: 2020-05-18 00:00:00\n"
     ]
    },
    {
     "name": "stderr",
     "output_type": "stream",
     "text": [
      "/home/ec2-user/anaconda3/envs/python3/lib/python3.6/site-packages/statsmodels/base/model.py:568: ConvergenceWarning: Maximum Likelihood optimization failed to converge. Check mle_retvals\n",
      "  \"Check mle_retvals\", ConvergenceWarning)\n"
     ]
    },
    {
     "name": "stdout",
     "output_type": "stream",
     "text": [
      "20th week\n",
      "train-start-date: 2014-09-14 00:00:00\n",
      "train-end-date: 2020-05-18 00:00:00\n",
      "forecast-start-date: 2020-05-18 00:00:00\n",
      "forecast-end-date: 2020-05-25 00:00:00\n"
     ]
    },
    {
     "name": "stderr",
     "output_type": "stream",
     "text": [
      "/home/ec2-user/anaconda3/envs/python3/lib/python3.6/site-packages/statsmodels/base/model.py:568: ConvergenceWarning: Maximum Likelihood optimization failed to converge. Check mle_retvals\n",
      "  \"Check mle_retvals\", ConvergenceWarning)\n"
     ]
    },
    {
     "name": "stdout",
     "output_type": "stream",
     "text": [
      "21th week\n",
      "train-start-date: 2014-09-14 00:00:00\n",
      "train-end-date: 2020-05-25 00:00:00\n",
      "forecast-start-date: 2020-05-25 00:00:00\n",
      "forecast-end-date: 2020-06-01 00:00:00\n"
     ]
    },
    {
     "name": "stderr",
     "output_type": "stream",
     "text": [
      "/home/ec2-user/anaconda3/envs/python3/lib/python3.6/site-packages/statsmodels/base/model.py:568: ConvergenceWarning: Maximum Likelihood optimization failed to converge. Check mle_retvals\n",
      "  \"Check mle_retvals\", ConvergenceWarning)\n"
     ]
    },
    {
     "name": "stdout",
     "output_type": "stream",
     "text": [
      "22th week\n",
      "train-start-date: 2014-09-14 00:00:00\n",
      "train-end-date: 2020-06-01 00:00:00\n",
      "forecast-start-date: 2020-06-01 00:00:00\n",
      "forecast-end-date: 2020-06-08 00:00:00\n"
     ]
    },
    {
     "name": "stderr",
     "output_type": "stream",
     "text": [
      "/home/ec2-user/anaconda3/envs/python3/lib/python3.6/site-packages/statsmodels/base/model.py:568: ConvergenceWarning: Maximum Likelihood optimization failed to converge. Check mle_retvals\n",
      "  \"Check mle_retvals\", ConvergenceWarning)\n"
     ]
    },
    {
     "name": "stdout",
     "output_type": "stream",
     "text": [
      "23th week\n",
      "train-start-date: 2014-09-14 00:00:00\n",
      "train-end-date: 2020-06-08 00:00:00\n",
      "forecast-start-date: 2020-06-08 00:00:00\n",
      "forecast-end-date: 2020-06-15 00:00:00\n"
     ]
    },
    {
     "name": "stderr",
     "output_type": "stream",
     "text": [
      "/home/ec2-user/anaconda3/envs/python3/lib/python3.6/site-packages/statsmodels/base/model.py:568: ConvergenceWarning: Maximum Likelihood optimization failed to converge. Check mle_retvals\n",
      "  \"Check mle_retvals\", ConvergenceWarning)\n"
     ]
    },
    {
     "name": "stdout",
     "output_type": "stream",
     "text": [
      "24th week\n",
      "train-start-date: 2014-09-14 00:00:00\n",
      "train-end-date: 2020-06-15 00:00:00\n",
      "forecast-start-date: 2020-06-15 00:00:00\n",
      "forecast-end-date: 2020-06-22 00:00:00\n"
     ]
    },
    {
     "name": "stderr",
     "output_type": "stream",
     "text": [
      "/home/ec2-user/anaconda3/envs/python3/lib/python3.6/site-packages/statsmodels/base/model.py:568: ConvergenceWarning: Maximum Likelihood optimization failed to converge. Check mle_retvals\n",
      "  \"Check mle_retvals\", ConvergenceWarning)\n"
     ]
    },
    {
     "name": "stdout",
     "output_type": "stream",
     "text": [
      "25th week\n",
      "train-start-date: 2014-09-14 00:00:00\n",
      "train-end-date: 2020-06-22 00:00:00\n",
      "forecast-start-date: 2020-06-22 00:00:00\n",
      "forecast-end-date: 2020-06-29 00:00:00\n"
     ]
    },
    {
     "name": "stderr",
     "output_type": "stream",
     "text": [
      "/home/ec2-user/anaconda3/envs/python3/lib/python3.6/site-packages/statsmodels/base/model.py:568: ConvergenceWarning: Maximum Likelihood optimization failed to converge. Check mle_retvals\n",
      "  \"Check mle_retvals\", ConvergenceWarning)\n"
     ]
    },
    {
     "name": "stdout",
     "output_type": "stream",
     "text": [
      "26th week\n",
      "train-start-date: 2014-09-14 00:00:00\n",
      "train-end-date: 2020-06-29 00:00:00\n",
      "forecast-start-date: 2020-06-29 00:00:00\n",
      "forecast-end-date: 2020-07-06 00:00:00\n"
     ]
    },
    {
     "name": "stderr",
     "output_type": "stream",
     "text": [
      "/home/ec2-user/anaconda3/envs/python3/lib/python3.6/site-packages/statsmodels/base/model.py:568: ConvergenceWarning: Maximum Likelihood optimization failed to converge. Check mle_retvals\n",
      "  \"Check mle_retvals\", ConvergenceWarning)\n"
     ]
    },
    {
     "name": "stdout",
     "output_type": "stream",
     "text": [
      "27th week\n",
      "train-start-date: 2014-09-14 00:00:00\n",
      "train-end-date: 2020-07-06 00:00:00\n",
      "forecast-start-date: 2020-07-06 00:00:00\n",
      "forecast-end-date: 2020-07-13 00:00:00\n"
     ]
    },
    {
     "name": "stderr",
     "output_type": "stream",
     "text": [
      "/home/ec2-user/anaconda3/envs/python3/lib/python3.6/site-packages/statsmodels/base/model.py:568: ConvergenceWarning: Maximum Likelihood optimization failed to converge. Check mle_retvals\n",
      "  \"Check mle_retvals\", ConvergenceWarning)\n"
     ]
    },
    {
     "name": "stdout",
     "output_type": "stream",
     "text": [
      "28th week\n",
      "train-start-date: 2014-09-14 00:00:00\n",
      "train-end-date: 2020-07-13 00:00:00\n",
      "forecast-start-date: 2020-07-13 00:00:00\n",
      "forecast-end-date: 2020-07-20 00:00:00\n"
     ]
    },
    {
     "name": "stderr",
     "output_type": "stream",
     "text": [
      "/home/ec2-user/anaconda3/envs/python3/lib/python3.6/site-packages/statsmodels/base/model.py:568: ConvergenceWarning: Maximum Likelihood optimization failed to converge. Check mle_retvals\n",
      "  \"Check mle_retvals\", ConvergenceWarning)\n"
     ]
    },
    {
     "name": "stdout",
     "output_type": "stream",
     "text": [
      "29th week\n",
      "train-start-date: 2014-09-14 00:00:00\n",
      "train-end-date: 2020-07-20 00:00:00\n",
      "forecast-start-date: 2020-07-20 00:00:00\n",
      "forecast-end-date: 2020-07-27 00:00:00\n"
     ]
    },
    {
     "name": "stderr",
     "output_type": "stream",
     "text": [
      "/home/ec2-user/anaconda3/envs/python3/lib/python3.6/site-packages/statsmodels/base/model.py:568: ConvergenceWarning: Maximum Likelihood optimization failed to converge. Check mle_retvals\n",
      "  \"Check mle_retvals\", ConvergenceWarning)\n"
     ]
    },
    {
     "name": "stdout",
     "output_type": "stream",
     "text": [
      "30th week\n",
      "train-start-date: 2014-09-14 00:00:00\n",
      "train-end-date: 2020-07-27 00:00:00\n",
      "forecast-start-date: 2020-07-27 00:00:00\n",
      "forecast-end-date: 2020-08-03 00:00:00\n"
     ]
    },
    {
     "name": "stderr",
     "output_type": "stream",
     "text": [
      "/home/ec2-user/anaconda3/envs/python3/lib/python3.6/site-packages/statsmodels/base/model.py:568: ConvergenceWarning: Maximum Likelihood optimization failed to converge. Check mle_retvals\n",
      "  \"Check mle_retvals\", ConvergenceWarning)\n"
     ]
    },
    {
     "name": "stdout",
     "output_type": "stream",
     "text": [
      "31th week\n",
      "train-start-date: 2014-09-14 00:00:00\n",
      "train-end-date: 2020-08-03 00:00:00\n",
      "forecast-start-date: 2020-08-03 00:00:00\n",
      "forecast-end-date: 2020-08-10 00:00:00\n"
     ]
    },
    {
     "name": "stderr",
     "output_type": "stream",
     "text": [
      "/home/ec2-user/anaconda3/envs/python3/lib/python3.6/site-packages/statsmodels/base/model.py:568: ConvergenceWarning: Maximum Likelihood optimization failed to converge. Check mle_retvals\n",
      "  \"Check mle_retvals\", ConvergenceWarning)\n"
     ]
    },
    {
     "name": "stdout",
     "output_type": "stream",
     "text": [
      "32th week\n",
      "train-start-date: 2014-09-14 00:00:00\n",
      "train-end-date: 2020-08-10 00:00:00\n",
      "forecast-start-date: 2020-08-10 00:00:00\n",
      "forecast-end-date: 2020-08-17 00:00:00\n"
     ]
    }
   ],
   "source": [
    "sar_ow = rolling_forecast_sarimax(df, df_test, 7)"
   ]
  },
  {
   "cell_type": "code",
   "execution_count": 30,
   "metadata": {},
   "outputs": [
    {
     "data": {
      "text/plain": [
       "<matplotlib.axes._subplots.AxesSubplot at 0x7f1b723d5dd8>"
      ]
     },
     "execution_count": 30,
     "metadata": {},
     "output_type": "execute_result"
    },
    {
     "data": {
      "image/png": "[encoded data removed]",
      "text/plain": [
       "<Figure size 432x288 with 1 Axes>"
      ]
     },
     "metadata": {
      "needs_background": "light"
     },
     "output_type": "display_data"
    }
   ],
   "source": [
    "sar_ow[['Page.Loads', 'preds']].plot()"
   ]
  },
  {
   "cell_type": "markdown",
   "metadata": {},
   "source": [
    "### Exponential Smoothing"
   ]
  },
  {
   "cell_type": "code",
   "execution_count": 40,
   "metadata": {},
   "outputs": [],
   "source": [
    "def rolling_forecast_es(df, df_test, p):\n",
    "    \"\"\"\n",
    "    Does rolling training and forecast for one week at a time \n",
    "    \"\"\"\n",
    "    \n",
    "    df_test['preds'] = 0\n",
    "    for k in range(0, int(len(df_test)/p)):\n",
    "        model = ExponentialSmoothing(np.asarray(df['Page.Loads'].iloc[:ix2 + (k)*p]),seasonal_periods=365, seasonal='add', trend='add')\n",
    "        model_fit = model.fit()\n",
    "        preds = model_fit.forecast(p)\n",
    "        print(str(k) + 'th week')\n",
    "\n",
    "        print(\"train-start-date:\", df['Date'].iloc[0])\n",
    "        print(\"train-end-date:\", df['Date'].iloc[ix2+(k)*p])\n",
    "\n",
    "        print('forecast-start-date:', df_test['Date'].iloc[(k)*p])\n",
    "        print('forecast-end-date:', df_test['Date'].iloc[(k+1)*p])\n",
    "\n",
    "        df_test['preds'].iloc[(k)*p:(k+1)*p] = preds\n",
    "    \n",
    "    return df_test"
   ]
  },
  {
   "cell_type": "code",
   "execution_count": 54,
   "metadata": {
    "scrolled": true
   },
   "outputs": [
    {
     "name": "stderr",
     "output_type": "stream",
     "text": [
      "/home/ec2-user/anaconda3/envs/python3/lib/python3.6/site-packages/ipykernel/__main__.py:2: SettingWithCopyWarning: \n",
      "A value is trying to be set on a copy of a slice from a DataFrame.\n",
      "Try using .loc[row_indexer,col_indexer] = value instead\n",
      "\n",
      "See the caveats in the documentation: https://pandas.pydata.org/pandas-docs/stable/user_guide/indexing.html#returning-a-view-versus-a-copy\n",
      "  from ipykernel import kernelapp as app\n",
      "/home/ec2-user/anaconda3/envs/python3/lib/python3.6/site-packages/statsmodels/tsa/holtwinters.py:744: ConvergenceWarning: Optimization failed to converge. Check mle_retvals.\n",
      "  ConvergenceWarning)\n",
      "/home/ec2-user/anaconda3/envs/python3/lib/python3.6/site-packages/pandas/core/indexing.py:670: SettingWithCopyWarning: \n",
      "A value is trying to be set on a copy of a slice from a DataFrame\n",
      "\n",
      "See the caveats in the documentation: https://pandas.pydata.org/pandas-docs/stable/user_guide/indexing.html#returning-a-view-versus-a-copy\n",
      "  iloc._setitem_with_indexer(indexer, value)\n",
      "/home/ec2-user/anaconda3/envs/python3/lib/python3.6/site-packages/ipykernel/__main__.py:15: SettingWithCopyWarning: \n",
      "A value is trying to be set on a copy of a slice from a DataFrame\n",
      "\n",
      "See the caveats in the documentation: https://pandas.pydata.org/pandas-docs/stable/user_guide/indexing.html#returning-a-view-versus-a-copy\n"
     ]
    },
    {
     "name": "stdout",
     "output_type": "stream",
     "text": [
      "0th week\n",
      "train-start-date: 2014-09-14 00:00:00\n",
      "train-end-date: 2019-12-30 00:00:00\n",
      "forecast-start-date: 2019-12-30 00:00:00\n",
      "forecast-end-date: 2020-01-06 00:00:00\n"
     ]
    },
    {
     "name": "stderr",
     "output_type": "stream",
     "text": [
      "/home/ec2-user/anaconda3/envs/python3/lib/python3.6/site-packages/statsmodels/tsa/holtwinters.py:744: ConvergenceWarning: Optimization failed to converge. Check mle_retvals.\n",
      "  ConvergenceWarning)\n"
     ]
    },
    {
     "name": "stdout",
     "output_type": "stream",
     "text": [
      "1th week\n",
      "train-start-date: 2014-09-14 00:00:00\n",
      "train-end-date: 2020-01-06 00:00:00\n",
      "forecast-start-date: 2020-01-06 00:00:00\n",
      "forecast-end-date: 2020-01-13 00:00:00\n"
     ]
    },
    {
     "name": "stderr",
     "output_type": "stream",
     "text": [
      "/home/ec2-user/anaconda3/envs/python3/lib/python3.6/site-packages/statsmodels/tsa/holtwinters.py:744: ConvergenceWarning: Optimization failed to converge. Check mle_retvals.\n",
      "  ConvergenceWarning)\n"
     ]
    },
    {
     "name": "stdout",
     "output_type": "stream",
     "text": [
      "2th week\n",
      "train-start-date: 2014-09-14 00:00:00\n",
      "train-end-date: 2020-01-13 00:00:00\n",
      "forecast-start-date: 2020-01-13 00:00:00\n",
      "forecast-end-date: 2020-01-20 00:00:00\n"
     ]
    },
    {
     "name": "stderr",
     "output_type": "stream",
     "text": [
      "/home/ec2-user/anaconda3/envs/python3/lib/python3.6/site-packages/statsmodels/tsa/holtwinters.py:744: ConvergenceWarning: Optimization failed to converge. Check mle_retvals.\n",
      "  ConvergenceWarning)\n"
     ]
    },
    {
     "name": "stdout",
     "output_type": "stream",
     "text": [
      "3th week\n",
      "train-start-date: 2014-09-14 00:00:00\n",
      "train-end-date: 2020-01-20 00:00:00\n",
      "forecast-start-date: 2020-01-20 00:00:00\n",
      "forecast-end-date: 2020-01-27 00:00:00\n"
     ]
    },
    {
     "name": "stderr",
     "output_type": "stream",
     "text": [
      "/home/ec2-user/anaconda3/envs/python3/lib/python3.6/site-packages/statsmodels/tsa/holtwinters.py:744: ConvergenceWarning: Optimization failed to converge. Check mle_retvals.\n",
      "  ConvergenceWarning)\n"
     ]
    },
    {
     "name": "stdout",
     "output_type": "stream",
     "text": [
      "4th week\n",
      "train-start-date: 2014-09-14 00:00:00\n",
      "train-end-date: 2020-01-27 00:00:00\n",
      "forecast-start-date: 2020-01-27 00:00:00\n",
      "forecast-end-date: 2020-02-03 00:00:00\n"
     ]
    },
    {
     "name": "stderr",
     "output_type": "stream",
     "text": [
      "/home/ec2-user/anaconda3/envs/python3/lib/python3.6/site-packages/statsmodels/tsa/holtwinters.py:744: ConvergenceWarning: Optimization failed to converge. Check mle_retvals.\n",
      "  ConvergenceWarning)\n"
     ]
    },
    {
     "name": "stdout",
     "output_type": "stream",
     "text": [
      "5th week\n",
      "train-start-date: 2014-09-14 00:00:00\n",
      "train-end-date: 2020-02-03 00:00:00\n",
      "forecast-start-date: 2020-02-03 00:00:00\n",
      "forecast-end-date: 2020-02-10 00:00:00\n"
     ]
    },
    {
     "name": "stderr",
     "output_type": "stream",
     "text": [
      "/home/ec2-user/anaconda3/envs/python3/lib/python3.6/site-packages/statsmodels/tsa/holtwinters.py:744: ConvergenceWarning: Optimization failed to converge. Check mle_retvals.\n",
      "  ConvergenceWarning)\n"
     ]
    },
    {
     "name": "stdout",
     "output_type": "stream",
     "text": [
      "6th week\n",
      "train-start-date: 2014-09-14 00:00:00\n",
      "train-end-date: 2020-02-10 00:00:00\n",
      "forecast-start-date: 2020-02-10 00:00:00\n",
      "forecast-end-date: 2020-02-17 00:00:00\n"
     ]
    },
    {
     "name": "stderr",
     "output_type": "stream",
     "text": [
      "/home/ec2-user/anaconda3/envs/python3/lib/python3.6/site-packages/statsmodels/tsa/holtwinters.py:744: ConvergenceWarning: Optimization failed to converge. Check mle_retvals.\n",
      "  ConvergenceWarning)\n"
     ]
    },
    {
     "name": "stdout",
     "output_type": "stream",
     "text": [
      "7th week\n",
      "train-start-date: 2014-09-14 00:00:00\n",
      "train-end-date: 2020-02-17 00:00:00\n",
      "forecast-start-date: 2020-02-17 00:00:00\n",
      "forecast-end-date: 2020-02-24 00:00:00\n"
     ]
    },
    {
     "name": "stderr",
     "output_type": "stream",
     "text": [
      "/home/ec2-user/anaconda3/envs/python3/lib/python3.6/site-packages/statsmodels/tsa/holtwinters.py:744: ConvergenceWarning: Optimization failed to converge. Check mle_retvals.\n",
      "  ConvergenceWarning)\n"
     ]
    },
    {
     "name": "stdout",
     "output_type": "stream",
     "text": [
      "8th week\n",
      "train-start-date: 2014-09-14 00:00:00\n",
      "train-end-date: 2020-02-24 00:00:00\n",
      "forecast-start-date: 2020-02-24 00:00:00\n",
      "forecast-end-date: 2020-03-02 00:00:00\n"
     ]
    },
    {
     "name": "stderr",
     "output_type": "stream",
     "text": [
      "/home/ec2-user/anaconda3/envs/python3/lib/python3.6/site-packages/statsmodels/tsa/holtwinters.py:744: ConvergenceWarning: Optimization failed to converge. Check mle_retvals.\n",
      "  ConvergenceWarning)\n"
     ]
    },
    {
     "name": "stdout",
     "output_type": "stream",
     "text": [
      "9th week\n",
      "train-start-date: 2014-09-14 00:00:00\n",
      "train-end-date: 2020-03-02 00:00:00\n",
      "forecast-start-date: 2020-03-02 00:00:00\n",
      "forecast-end-date: 2020-03-09 00:00:00\n"
     ]
    },
    {
     "name": "stderr",
     "output_type": "stream",
     "text": [
      "/home/ec2-user/anaconda3/envs/python3/lib/python3.6/site-packages/statsmodels/tsa/holtwinters.py:744: ConvergenceWarning: Optimization failed to converge. Check mle_retvals.\n",
      "  ConvergenceWarning)\n"
     ]
    },
    {
     "name": "stdout",
     "output_type": "stream",
     "text": [
      "10th week\n",
      "train-start-date: 2014-09-14 00:00:00\n",
      "train-end-date: 2020-03-09 00:00:00\n",
      "forecast-start-date: 2020-03-09 00:00:00\n",
      "forecast-end-date: 2020-03-16 00:00:00\n"
     ]
    },
    {
     "name": "stderr",
     "output_type": "stream",
     "text": [
      "/home/ec2-user/anaconda3/envs/python3/lib/python3.6/site-packages/statsmodels/tsa/holtwinters.py:744: ConvergenceWarning: Optimization failed to converge. Check mle_retvals.\n",
      "  ConvergenceWarning)\n"
     ]
    },
    {
     "name": "stdout",
     "output_type": "stream",
     "text": [
      "11th week\n",
      "train-start-date: 2014-09-14 00:00:00\n",
      "train-end-date: 2020-03-16 00:00:00\n",
      "forecast-start-date: 2020-03-16 00:00:00\n",
      "forecast-end-date: 2020-03-23 00:00:00\n"
     ]
    },
    {
     "name": "stderr",
     "output_type": "stream",
     "text": [
      "/home/ec2-user/anaconda3/envs/python3/lib/python3.6/site-packages/statsmodels/tsa/holtwinters.py:744: ConvergenceWarning: Optimization failed to converge. Check mle_retvals.\n",
      "  ConvergenceWarning)\n"
     ]
    },
    {
     "name": "stdout",
     "output_type": "stream",
     "text": [
      "12th week\n",
      "train-start-date: 2014-09-14 00:00:00\n",
      "train-end-date: 2020-03-23 00:00:00\n",
      "forecast-start-date: 2020-03-23 00:00:00\n",
      "forecast-end-date: 2020-03-30 00:00:00\n"
     ]
    },
    {
     "name": "stderr",
     "output_type": "stream",
     "text": [
      "/home/ec2-user/anaconda3/envs/python3/lib/python3.6/site-packages/statsmodels/tsa/holtwinters.py:744: ConvergenceWarning: Optimization failed to converge. Check mle_retvals.\n",
      "  ConvergenceWarning)\n"
     ]
    },
    {
     "name": "stdout",
     "output_type": "stream",
     "text": [
      "13th week\n",
      "train-start-date: 2014-09-14 00:00:00\n",
      "train-end-date: 2020-03-30 00:00:00\n",
      "forecast-start-date: 2020-03-30 00:00:00\n",
      "forecast-end-date: 2020-04-06 00:00:00\n"
     ]
    },
    {
     "name": "stderr",
     "output_type": "stream",
     "text": [
      "/home/ec2-user/anaconda3/envs/python3/lib/python3.6/site-packages/statsmodels/tsa/holtwinters.py:744: ConvergenceWarning: Optimization failed to converge. Check mle_retvals.\n",
      "  ConvergenceWarning)\n"
     ]
    },
    {
     "name": "stdout",
     "output_type": "stream",
     "text": [
      "14th week\n",
      "train-start-date: 2014-09-14 00:00:00\n",
      "train-end-date: 2020-04-06 00:00:00\n",
      "forecast-start-date: 2020-04-06 00:00:00\n",
      "forecast-end-date: 2020-04-13 00:00:00\n"
     ]
    },
    {
     "name": "stderr",
     "output_type": "stream",
     "text": [
      "/home/ec2-user/anaconda3/envs/python3/lib/python3.6/site-packages/statsmodels/tsa/holtwinters.py:744: ConvergenceWarning: Optimization failed to converge. Check mle_retvals.\n",
      "  ConvergenceWarning)\n"
     ]
    },
    {
     "name": "stdout",
     "output_type": "stream",
     "text": [
      "15th week\n",
      "train-start-date: 2014-09-14 00:00:00\n",
      "train-end-date: 2020-04-13 00:00:00\n",
      "forecast-start-date: 2020-04-13 00:00:00\n",
      "forecast-end-date: 2020-04-20 00:00:00\n"
     ]
    },
    {
     "name": "stderr",
     "output_type": "stream",
     "text": [
      "/home/ec2-user/anaconda3/envs/python3/lib/python3.6/site-packages/statsmodels/tsa/holtwinters.py:744: ConvergenceWarning: Optimization failed to converge. Check mle_retvals.\n",
      "  ConvergenceWarning)\n"
     ]
    },
    {
     "name": "stdout",
     "output_type": "stream",
     "text": [
      "16th week\n",
      "train-start-date: 2014-09-14 00:00:00\n",
      "train-end-date: 2020-04-20 00:00:00\n",
      "forecast-start-date: 2020-04-20 00:00:00\n",
      "forecast-end-date: 2020-04-27 00:00:00\n"
     ]
    },
    {
     "name": "stderr",
     "output_type": "stream",
     "text": [
      "/home/ec2-user/anaconda3/envs/python3/lib/python3.6/site-packages/statsmodels/tsa/holtwinters.py:744: ConvergenceWarning: Optimization failed to converge. Check mle_retvals.\n",
      "  ConvergenceWarning)\n"
     ]
    },
    {
     "name": "stdout",
     "output_type": "stream",
     "text": [
      "17th week\n",
      "train-start-date: 2014-09-14 00:00:00\n",
      "train-end-date: 2020-04-27 00:00:00\n",
      "forecast-start-date: 2020-04-27 00:00:00\n",
      "forecast-end-date: 2020-05-04 00:00:00\n"
     ]
    },
    {
     "name": "stderr",
     "output_type": "stream",
     "text": [
      "/home/ec2-user/anaconda3/envs/python3/lib/python3.6/site-packages/statsmodels/tsa/holtwinters.py:744: ConvergenceWarning: Optimization failed to converge. Check mle_retvals.\n",
      "  ConvergenceWarning)\n"
     ]
    },
    {
     "name": "stdout",
     "output_type": "stream",
     "text": [
      "18th week\n",
      "train-start-date: 2014-09-14 00:00:00\n",
      "train-end-date: 2020-05-04 00:00:00\n",
      "forecast-start-date: 2020-05-04 00:00:00\n",
      "forecast-end-date: 2020-05-11 00:00:00\n"
     ]
    },
    {
     "name": "stderr",
     "output_type": "stream",
     "text": [
      "/home/ec2-user/anaconda3/envs/python3/lib/python3.6/site-packages/statsmodels/tsa/holtwinters.py:744: ConvergenceWarning: Optimization failed to converge. Check mle_retvals.\n",
      "  ConvergenceWarning)\n"
     ]
    },
    {
     "name": "stdout",
     "output_type": "stream",
     "text": [
      "19th week\n",
      "train-start-date: 2014-09-14 00:00:00\n",
      "train-end-date: 2020-05-11 00:00:00\n",
      "forecast-start-date: 2020-05-11 00:00:00\n",
      "forecast-end-date: 2020-05-18 00:00:00\n"
     ]
    },
    {
     "name": "stderr",
     "output_type": "stream",
     "text": [
      "/home/ec2-user/anaconda3/envs/python3/lib/python3.6/site-packages/statsmodels/tsa/holtwinters.py:744: ConvergenceWarning: Optimization failed to converge. Check mle_retvals.\n",
      "  ConvergenceWarning)\n"
     ]
    },
    {
     "name": "stdout",
     "output_type": "stream",
     "text": [
      "20th week\n",
      "train-start-date: 2014-09-14 00:00:00\n",
      "train-end-date: 2020-05-18 00:00:00\n",
      "forecast-start-date: 2020-05-18 00:00:00\n",
      "forecast-end-date: 2020-05-25 00:00:00\n"
     ]
    },
    {
     "name": "stderr",
     "output_type": "stream",
     "text": [
      "/home/ec2-user/anaconda3/envs/python3/lib/python3.6/site-packages/statsmodels/tsa/holtwinters.py:744: ConvergenceWarning: Optimization failed to converge. Check mle_retvals.\n",
      "  ConvergenceWarning)\n"
     ]
    },
    {
     "name": "stdout",
     "output_type": "stream",
     "text": [
      "21th week\n",
      "train-start-date: 2014-09-14 00:00:00\n",
      "train-end-date: 2020-05-25 00:00:00\n",
      "forecast-start-date: 2020-05-25 00:00:00\n",
      "forecast-end-date: 2020-06-01 00:00:00\n"
     ]
    },
    {
     "name": "stderr",
     "output_type": "stream",
     "text": [
      "/home/ec2-user/anaconda3/envs/python3/lib/python3.6/site-packages/statsmodels/tsa/holtwinters.py:744: ConvergenceWarning: Optimization failed to converge. Check mle_retvals.\n",
      "  ConvergenceWarning)\n"
     ]
    },
    {
     "name": "stdout",
     "output_type": "stream",
     "text": [
      "22th week\n",
      "train-start-date: 2014-09-14 00:00:00\n",
      "train-end-date: 2020-06-01 00:00:00\n",
      "forecast-start-date: 2020-06-01 00:00:00\n",
      "forecast-end-date: 2020-06-08 00:00:00\n"
     ]
    },
    {
     "name": "stderr",
     "output_type": "stream",
     "text": [
      "/home/ec2-user/anaconda3/envs/python3/lib/python3.6/site-packages/statsmodels/tsa/holtwinters.py:744: ConvergenceWarning: Optimization failed to converge. Check mle_retvals.\n",
      "  ConvergenceWarning)\n"
     ]
    },
    {
     "name": "stdout",
     "output_type": "stream",
     "text": [
      "23th week\n",
      "train-start-date: 2014-09-14 00:00:00\n",
      "train-end-date: 2020-06-08 00:00:00\n",
      "forecast-start-date: 2020-06-08 00:00:00\n",
      "forecast-end-date: 2020-06-15 00:00:00\n"
     ]
    },
    {
     "name": "stderr",
     "output_type": "stream",
     "text": [
      "/home/ec2-user/anaconda3/envs/python3/lib/python3.6/site-packages/statsmodels/tsa/holtwinters.py:744: ConvergenceWarning: Optimization failed to converge. Check mle_retvals.\n",
      "  ConvergenceWarning)\n"
     ]
    },
    {
     "name": "stdout",
     "output_type": "stream",
     "text": [
      "24th week\n",
      "train-start-date: 2014-09-14 00:00:00\n",
      "train-end-date: 2020-06-15 00:00:00\n",
      "forecast-start-date: 2020-06-15 00:00:00\n",
      "forecast-end-date: 2020-06-22 00:00:00\n"
     ]
    },
    {
     "name": "stderr",
     "output_type": "stream",
     "text": [
      "/home/ec2-user/anaconda3/envs/python3/lib/python3.6/site-packages/statsmodels/tsa/holtwinters.py:744: ConvergenceWarning: Optimization failed to converge. Check mle_retvals.\n",
      "  ConvergenceWarning)\n"
     ]
    },
    {
     "name": "stdout",
     "output_type": "stream",
     "text": [
      "25th week\n",
      "train-start-date: 2014-09-14 00:00:00\n",
      "train-end-date: 2020-06-22 00:00:00\n",
      "forecast-start-date: 2020-06-22 00:00:00\n",
      "forecast-end-date: 2020-06-29 00:00:00\n"
     ]
    },
    {
     "name": "stderr",
     "output_type": "stream",
     "text": [
      "/home/ec2-user/anaconda3/envs/python3/lib/python3.6/site-packages/statsmodels/tsa/holtwinters.py:744: ConvergenceWarning: Optimization failed to converge. Check mle_retvals.\n",
      "  ConvergenceWarning)\n"
     ]
    },
    {
     "name": "stdout",
     "output_type": "stream",
     "text": [
      "26th week\n",
      "train-start-date: 2014-09-14 00:00:00\n",
      "train-end-date: 2020-06-29 00:00:00\n",
      "forecast-start-date: 2020-06-29 00:00:00\n",
      "forecast-end-date: 2020-07-06 00:00:00\n"
     ]
    },
    {
     "name": "stderr",
     "output_type": "stream",
     "text": [
      "/home/ec2-user/anaconda3/envs/python3/lib/python3.6/site-packages/statsmodels/tsa/holtwinters.py:744: ConvergenceWarning: Optimization failed to converge. Check mle_retvals.\n",
      "  ConvergenceWarning)\n"
     ]
    },
    {
     "name": "stdout",
     "output_type": "stream",
     "text": [
      "27th week\n",
      "train-start-date: 2014-09-14 00:00:00\n",
      "train-end-date: 2020-07-06 00:00:00\n",
      "forecast-start-date: 2020-07-06 00:00:00\n",
      "forecast-end-date: 2020-07-13 00:00:00\n"
     ]
    },
    {
     "name": "stderr",
     "output_type": "stream",
     "text": [
      "/home/ec2-user/anaconda3/envs/python3/lib/python3.6/site-packages/statsmodels/tsa/holtwinters.py:744: ConvergenceWarning: Optimization failed to converge. Check mle_retvals.\n",
      "  ConvergenceWarning)\n"
     ]
    },
    {
     "name": "stdout",
     "output_type": "stream",
     "text": [
      "28th week\n",
      "train-start-date: 2014-09-14 00:00:00\n",
      "train-end-date: 2020-07-13 00:00:00\n",
      "forecast-start-date: 2020-07-13 00:00:00\n",
      "forecast-end-date: 2020-07-20 00:00:00\n"
     ]
    },
    {
     "name": "stderr",
     "output_type": "stream",
     "text": [
      "/home/ec2-user/anaconda3/envs/python3/lib/python3.6/site-packages/statsmodels/tsa/holtwinters.py:744: ConvergenceWarning: Optimization failed to converge. Check mle_retvals.\n",
      "  ConvergenceWarning)\n"
     ]
    },
    {
     "name": "stdout",
     "output_type": "stream",
     "text": [
      "29th week\n",
      "train-start-date: 2014-09-14 00:00:00\n",
      "train-end-date: 2020-07-20 00:00:00\n",
      "forecast-start-date: 2020-07-20 00:00:00\n",
      "forecast-end-date: 2020-07-27 00:00:00\n"
     ]
    },
    {
     "name": "stderr",
     "output_type": "stream",
     "text": [
      "/home/ec2-user/anaconda3/envs/python3/lib/python3.6/site-packages/statsmodels/tsa/holtwinters.py:744: ConvergenceWarning: Optimization failed to converge. Check mle_retvals.\n",
      "  ConvergenceWarning)\n"
     ]
    },
    {
     "name": "stdout",
     "output_type": "stream",
     "text": [
      "30th week\n",
      "train-start-date: 2014-09-14 00:00:00\n",
      "train-end-date: 2020-07-27 00:00:00\n",
      "forecast-start-date: 2020-07-27 00:00:00\n",
      "forecast-end-date: 2020-08-03 00:00:00\n"
     ]
    },
    {
     "name": "stderr",
     "output_type": "stream",
     "text": [
      "/home/ec2-user/anaconda3/envs/python3/lib/python3.6/site-packages/statsmodels/tsa/holtwinters.py:744: ConvergenceWarning: Optimization failed to converge. Check mle_retvals.\n",
      "  ConvergenceWarning)\n"
     ]
    },
    {
     "name": "stdout",
     "output_type": "stream",
     "text": [
      "31th week\n",
      "train-start-date: 2014-09-14 00:00:00\n",
      "train-end-date: 2020-08-03 00:00:00\n",
      "forecast-start-date: 2020-08-03 00:00:00\n",
      "forecast-end-date: 2020-08-10 00:00:00\n",
      "32th week\n",
      "train-start-date: 2014-09-14 00:00:00\n",
      "train-end-date: 2020-08-10 00:00:00\n",
      "forecast-start-date: 2020-08-10 00:00:00\n",
      "forecast-end-date: 2020-08-17 00:00:00\n"
     ]
    },
    {
     "name": "stderr",
     "output_type": "stream",
     "text": [
      "/home/ec2-user/anaconda3/envs/python3/lib/python3.6/site-packages/statsmodels/tsa/holtwinters.py:744: ConvergenceWarning: Optimization failed to converge. Check mle_retvals.\n",
      "  ConvergenceWarning)\n"
     ]
    }
   ],
   "source": [
    "df_ow_es = rolling_forecast_es(df, df_test, 7)"
   ]
  },
  {
   "cell_type": "code",
   "execution_count": 55,
   "metadata": {},
   "outputs": [
    {
     "data": {
      "text/plain": [
       "<matplotlib.axes._subplots.AxesSubplot at 0x7f1b719287f0>"
      ]
     },
     "execution_count": 55,
     "metadata": {},
     "output_type": "execute_result"
    },
    {
     "data": {
      "image/png": "[encoded data removed]",
      "text/plain": [
       "<Figure size 432x288 with 1 Axes>"
      ]
     },
     "metadata": {
      "needs_background": "light"
     },
     "output_type": "display_data"
    }
   ],
   "source": [
    "df_ow_es[['Page.Loads', 'preds']].plot()"
   ]
  },
  {
   "cell_type": "code",
   "execution_count": 56,
   "metadata": {},
   "outputs": [
    {
     "name": "stdout",
     "output_type": "stream",
     "text": [
      "Median-absolute-error 600.5327541051433\n"
     ]
    }
   ],
   "source": [
    "print(\"Median-absolute-error\", metrics.median_absolute_error(df_ow_es['Page.Loads'], df_ow_es['preds']))"
   ]
  },
  {
   "cell_type": "code",
   "execution_count": 49,
   "metadata": {},
   "outputs": [
    {
     "name": "stderr",
     "output_type": "stream",
     "text": [
      "/home/ec2-user/anaconda3/envs/python3/lib/python3.6/site-packages/statsmodels/tsa/holtwinters.py:744: ConvergenceWarning: Optimization failed to converge. Check mle_retvals.\n",
      "  ConvergenceWarning)\n"
     ]
    }
   ],
   "source": [
    "df_es = df_test.copy()\n",
    "df_es['preds'] = 0\n",
    "p = len(df_test)\n",
    "model = ExponentialSmoothing(np.asarray(df_train['Page.Loads']),seasonal_periods=365, seasonal='add', trend='add')\n",
    "model_fit = model.fit()\n",
    "preds = model_fit.forecast(p)\n",
    "df_es['preds'] = preds"
   ]
  },
  {
   "cell_type": "code",
   "execution_count": 50,
   "metadata": {},
   "outputs": [
    {
     "data": {
      "text/plain": [
       "<matplotlib.axes._subplots.AxesSubplot at 0x7f1b71ad1630>"
      ]
     },
     "execution_count": 50,
     "metadata": {},
     "output_type": "execute_result"
    },
    {
     "data": {
      "image/png": "[encoded data removed]",
      "text/plain": [
       "<Figure size 432x288 with 1 Axes>"
      ]
     },
     "metadata": {
      "needs_background": "light"
     },
     "output_type": "display_data"
    }
   ],
   "source": [
    "df_es[['Page.Loads', 'preds']].plot()"
   ]
  },
  {
   "cell_type": "code",
   "execution_count": 51,
   "metadata": {},
   "outputs": [
    {
     "name": "stdout",
     "output_type": "stream",
     "text": [
      "Median-absolute-error 1252.309563681723\n"
     ]
    }
   ],
   "source": [
    "print(\"Median-absolute-error\", metrics.median_absolute_error(df_es['Page.Loads'], df_es['preds']))"
   ]
  },
  {
   "cell_type": "code",
   "execution_count": 63,
   "metadata": {
    "scrolled": true
   },
   "outputs": [
    {
     "name": "stderr",
     "output_type": "stream",
     "text": [
      "/home/ec2-user/anaconda3/envs/python3/lib/python3.6/site-packages/ipykernel/__main__.py:2: SettingWithCopyWarning: \n",
      "A value is trying to be set on a copy of a slice from a DataFrame.\n",
      "Try using .loc[row_indexer,col_indexer] = value instead\n",
      "\n",
      "See the caveats in the documentation: https://pandas.pydata.org/pandas-docs/stable/user_guide/indexing.html#returning-a-view-versus-a-copy\n",
      "  from ipykernel import kernelapp as app\n",
      "/home/ec2-user/anaconda3/envs/python3/lib/python3.6/site-packages/statsmodels/tsa/holtwinters.py:744: ConvergenceWarning: Optimization failed to converge. Check mle_retvals.\n",
      "  ConvergenceWarning)\n",
      "/home/ec2-user/anaconda3/envs/python3/lib/python3.6/site-packages/pandas/core/indexing.py:670: SettingWithCopyWarning: \n",
      "A value is trying to be set on a copy of a slice from a DataFrame\n",
      "\n",
      "See the caveats in the documentation: https://pandas.pydata.org/pandas-docs/stable/user_guide/indexing.html#returning-a-view-versus-a-copy\n",
      "  iloc._setitem_with_indexer(indexer, value)\n",
      "/home/ec2-user/anaconda3/envs/python3/lib/python3.6/site-packages/ipykernel/__main__.py:15: SettingWithCopyWarning: \n",
      "A value is trying to be set on a copy of a slice from a DataFrame\n",
      "\n",
      "See the caveats in the documentation: https://pandas.pydata.org/pandas-docs/stable/user_guide/indexing.html#returning-a-view-versus-a-copy\n"
     ]
    },
    {
     "name": "stdout",
     "output_type": "stream",
     "text": [
      "0th week\n",
      "train-start-date: 2014-09-14 00:00:00\n",
      "train-end-date: 2019-12-30 00:00:00\n",
      "forecast-start-date: 2019-12-30 00:00:00\n",
      "forecast-end-date: 2020-01-29 00:00:00\n"
     ]
    },
    {
     "name": "stderr",
     "output_type": "stream",
     "text": [
      "/home/ec2-user/anaconda3/envs/python3/lib/python3.6/site-packages/statsmodels/tsa/holtwinters.py:744: ConvergenceWarning: Optimization failed to converge. Check mle_retvals.\n",
      "  ConvergenceWarning)\n"
     ]
    },
    {
     "name": "stdout",
     "output_type": "stream",
     "text": [
      "1th week\n",
      "train-start-date: 2014-09-14 00:00:00\n",
      "train-end-date: 2020-01-29 00:00:00\n",
      "forecast-start-date: 2020-01-29 00:00:00\n",
      "forecast-end-date: 2020-02-28 00:00:00\n"
     ]
    },
    {
     "name": "stderr",
     "output_type": "stream",
     "text": [
      "/home/ec2-user/anaconda3/envs/python3/lib/python3.6/site-packages/statsmodels/tsa/holtwinters.py:744: ConvergenceWarning: Optimization failed to converge. Check mle_retvals.\n",
      "  ConvergenceWarning)\n"
     ]
    },
    {
     "name": "stdout",
     "output_type": "stream",
     "text": [
      "2th week\n",
      "train-start-date: 2014-09-14 00:00:00\n",
      "train-end-date: 2020-02-28 00:00:00\n",
      "forecast-start-date: 2020-02-28 00:00:00\n",
      "forecast-end-date: 2020-03-29 00:00:00\n"
     ]
    },
    {
     "name": "stderr",
     "output_type": "stream",
     "text": [
      "/home/ec2-user/anaconda3/envs/python3/lib/python3.6/site-packages/statsmodels/tsa/holtwinters.py:744: ConvergenceWarning: Optimization failed to converge. Check mle_retvals.\n",
      "  ConvergenceWarning)\n"
     ]
    },
    {
     "name": "stdout",
     "output_type": "stream",
     "text": [
      "3th week\n",
      "train-start-date: 2014-09-14 00:00:00\n",
      "train-end-date: 2020-03-29 00:00:00\n",
      "forecast-start-date: 2020-03-29 00:00:00\n",
      "forecast-end-date: 2020-04-28 00:00:00\n"
     ]
    },
    {
     "name": "stderr",
     "output_type": "stream",
     "text": [
      "/home/ec2-user/anaconda3/envs/python3/lib/python3.6/site-packages/statsmodels/tsa/holtwinters.py:744: ConvergenceWarning: Optimization failed to converge. Check mle_retvals.\n",
      "  ConvergenceWarning)\n"
     ]
    },
    {
     "name": "stdout",
     "output_type": "stream",
     "text": [
      "4th week\n",
      "train-start-date: 2014-09-14 00:00:00\n",
      "train-end-date: 2020-04-28 00:00:00\n",
      "forecast-start-date: 2020-04-28 00:00:00\n",
      "forecast-end-date: 2020-05-28 00:00:00\n"
     ]
    },
    {
     "name": "stderr",
     "output_type": "stream",
     "text": [
      "/home/ec2-user/anaconda3/envs/python3/lib/python3.6/site-packages/statsmodels/tsa/holtwinters.py:744: ConvergenceWarning: Optimization failed to converge. Check mle_retvals.\n",
      "  ConvergenceWarning)\n"
     ]
    },
    {
     "name": "stdout",
     "output_type": "stream",
     "text": [
      "5th week\n",
      "train-start-date: 2014-09-14 00:00:00\n",
      "train-end-date: 2020-05-28 00:00:00\n",
      "forecast-start-date: 2020-05-28 00:00:00\n",
      "forecast-end-date: 2020-06-27 00:00:00\n",
      "6th week\n",
      "train-start-date: 2014-09-14 00:00:00\n",
      "train-end-date: 2020-06-27 00:00:00\n",
      "forecast-start-date: 2020-06-27 00:00:00\n",
      "forecast-end-date: 2020-07-27 00:00:00\n"
     ]
    },
    {
     "name": "stderr",
     "output_type": "stream",
     "text": [
      "/home/ec2-user/anaconda3/envs/python3/lib/python3.6/site-packages/statsmodels/tsa/holtwinters.py:744: ConvergenceWarning: Optimization failed to converge. Check mle_retvals.\n",
      "  ConvergenceWarning)\n"
     ]
    }
   ],
   "source": [
    "df_om_es = rolling_forecast_es(df, df_test, 30)"
   ]
  },
  {
   "cell_type": "code",
   "execution_count": 64,
   "metadata": {},
   "outputs": [
    {
     "data": {
      "text/plain": [
       "<matplotlib.axes._subplots.AxesSubplot at 0x7f1b70f12a58>"
      ]
     },
     "execution_count": 64,
     "metadata": {},
     "output_type": "execute_result"
    },
    {
     "data": {
      "image/png": "[encoded data removed]",
      "text/plain": [
       "<Figure size 432x288 with 1 Axes>"
      ]
     },
     "metadata": {
      "needs_background": "light"
     },
     "output_type": "display_data"
    }
   ],
   "source": [
    "df_om_es[['Page.Loads', 'preds']].plot()"
   ]
  },
  {
   "cell_type": "code",
   "execution_count": 65,
   "metadata": {},
   "outputs": [
    {
     "name": "stdout",
     "output_type": "stream",
     "text": [
      "Median-absolute-error 748.9217546543787\n"
     ]
    }
   ],
   "source": [
    "print(\"Median-absolute-error\", metrics.median_absolute_error(df_om_es['Page.Loads'], df_om_es['preds']))"
   ]
  },
  {
   "cell_type": "code",
   "execution_count": null,
   "metadata": {},
   "outputs": [],
   "source": []
  }
 ],
 "metadata": {
  "kernelspec": {
   "display_name": "conda_python3",
   "language": "python",
   "name": "conda_python3"
  },
  "language_info": {
   "codemirror_mode": {
    "name": "ipython",
    "version": 3
   },
   "file_extension": ".py",
   "mimetype": "text/x-python",
   "name": "python",
   "nbconvert_exporter": "python",
   "pygments_lexer": "ipython3",
   "version": "3.6.10"
  }
 },
 "nbformat": 4,
 "nbformat_minor": 4
}
