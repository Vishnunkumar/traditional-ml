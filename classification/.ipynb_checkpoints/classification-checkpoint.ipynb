{
 "cells": [
  {
   "cell_type": "code",
   "execution_count": 1,
   "metadata": {},
   "outputs": [],
   "source": [
    "import pandas as pd"
   ]
  },
  {
   "cell_type": "code",
   "execution_count": 2,
   "metadata": {},
   "outputs": [],
   "source": [
    "df = pd.read_csv('train_ml.csv')"
   ]
  },
  {
   "cell_type": "code",
   "execution_count": 4,
   "metadata": {},
   "outputs": [
    {
     "data": {
      "text/plain": [
       "Loan_ID                        0\n",
       "Loan_Amount_Requested          0\n",
       "Length_Employed             5393\n",
       "Home_Owner                 18558\n",
       "Annual_Income              18409\n",
       "Income_Verified                1\n",
       "Purpose_Of_Loan                1\n",
       "Debt_To_Income                 1\n",
       "Inquiries_Last_6Mo             1\n",
       "Months_Since_Deliquency    64831\n",
       "Number_Open_Accounts           1\n",
       "Total_Accounts                 1\n",
       "Gender                         1\n",
       "Interest_Rate                  1\n",
       "dtype: int64"
      ]
     },
     "execution_count": 4,
     "metadata": {},
     "output_type": "execute_result"
    }
   ],
   "source": [
    "df.isnull().sum()"
   ]
  },
  {
   "cell_type": "code",
   "execution_count": 5,
   "metadata": {},
   "outputs": [
    {
     "data": {
      "text/plain": [
       "(120432, 14)"
      ]
     },
     "execution_count": 5,
     "metadata": {},
     "output_type": "execute_result"
    }
   ],
   "source": [
    "df.shape"
   ]
  },
  {
   "cell_type": "code",
   "execution_count": 9,
   "metadata": {},
   "outputs": [],
   "source": [
    "uniques = [[x, len(df[x].unique())] for x in df.columns]"
   ]
  },
  {
   "cell_type": "code",
   "execution_count": 10,
   "metadata": {},
   "outputs": [
    {
     "data": {
      "text/plain": [
       "[['Loan_ID', 120432],\n",
       " ['Loan_Amount_Requested', 1265],\n",
       " ['Length_Employed', 12],\n",
       " ['Home_Owner', 6],\n",
       " ['Annual_Income', 9526],\n",
       " ['Income_Verified', 4],\n",
       " ['Purpose_Of_Loan', 15],\n",
       " ['Debt_To_Income', 3915],\n",
       " ['Inquiries_Last_6Mo', 10],\n",
       " ['Months_Since_Deliquency', 116],\n",
       " ['Number_Open_Accounts', 59],\n",
       " ['Total_Accounts', 100],\n",
       " ['Gender', 3],\n",
       " ['Interest_Rate', 4]]"
      ]
     },
     "execution_count": 10,
     "metadata": {},
     "output_type": "execute_result"
    }
   ],
   "source": [
    "uniques"
   ]
  },
  {
   "cell_type": "code",
   "execution_count": null,
   "metadata": {},
   "outputs": [],
   "source": []
  }
 ],
 "metadata": {
  "kernelspec": {
   "display_name": "conda_python3",
   "language": "python",
   "name": "conda_python3"
  },
  "language_info": {
   "codemirror_mode": {
    "name": "ipython",
    "version": 3
   },
   "file_extension": ".py",
   "mimetype": "text/x-python",
   "name": "python",
   "nbconvert_exporter": "python",
   "pygments_lexer": "ipython3",
   "version": "3.6.10"
  }
 },
 "nbformat": 4,
 "nbformat_minor": 4
}
